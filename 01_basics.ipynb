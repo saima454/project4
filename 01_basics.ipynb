{
  "nbformat": 4,
  "nbformat_minor": 0,
  "metadata": {
    "colab": {
      "provenance": [],
      "authorship_tag": "ABX9TyM1N+h5W0rT9LhGnxAhJCAp",
      "include_colab_link": true
    },
    "kernelspec": {
      "name": "python3",
      "display_name": "Python 3"
    },
    "language_info": {
      "name": "python"
    }
  },
  "cells": [
    {
      "cell_type": "markdown",
      "metadata": {
        "id": "view-in-github",
        "colab_type": "text"
      },
      "source": [
        "<a href=\"https://colab.research.google.com/github/saima454/project4/blob/main/01_basics.ipynb\" target=\"_parent\"><img src=\"https://colab.research.google.com/assets/colab-badge.svg\" alt=\"Open In Colab\"/></a>"
      ]
    },
    {
      "cell_type": "code",
      "execution_count": 4,
      "metadata": {
        "colab": {
          "base_uri": "https://localhost:8080/"
        },
        "id": "-D7yx_NCgOH6",
        "outputId": "0b281093-3507-4547-bc1f-100835abcc23"
      },
      "outputs": [
        {
          "output_type": "stream",
          "name": "stdout",
          "text": [
            "joke\n",
            "Why don’t skeletons fight each other?Because they don’t have the guts! 💀😂\n"
          ]
        }
      ],
      "source": [
        "prompt:str=\"what do you want\"\n",
        "joke:str= \"Why don’t skeletons fight each other?Because they don’t have the guts! 💀😂\"\n",
        "\n",
        "\n",
        "Sorry: str = \"Sorry I only tell jokes.\"\n",
        "\n",
        "\n",
        "def main():\n",
        " user_input = input().strip().lower()\n",
        " if \"joke\" in user_input:\n",
        "  print(joke)\n",
        " else:\n",
        "  print(Sorry)\n",
        "\n",
        "if __name__ == \"__main__\":\n",
        " main()\n",
        "\n",
        "\n",
        "\n"
      ]
    },
    {
      "cell_type": "code",
      "source": [
        "def main():\n",
        "  curr_value = int(input(\"enter your number\").strip().lower())\n",
        "\n",
        "  while curr_value <100:\n",
        "    curr_value *= 2\n",
        "    print(curr_value,end=\"\")\n",
        "\n",
        "if __name__ == \"__main__\":\n",
        "     main()"
      ],
      "metadata": {
        "colab": {
          "base_uri": "https://localhost:8080/"
        },
        "id": "AydDLovGpROp",
        "outputId": "d898b207-ead9-4c29-e399-23080b11100d"
      },
      "execution_count": 21,
      "outputs": [
        {
          "output_type": "stream",
          "name": "stdout",
          "text": [
            "enter your number40\n",
            "80160"
          ]
        }
      ]
    }
  ]
}